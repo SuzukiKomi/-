  {
   "cell_type": "code",
   "execution_count": null,
   "metadata": {
    "scrolled": true
   },
   "outputs": [],
   "source": [
    "#ユニットテスト1\n",
    "#フィボナッチ数を正しく返しているかのテスト\n",
    "def fibonacci(n):\n",
    "    if n == 1:\n",
    "        return 1 \n",
    "    elif n == 2:\n",
    "        return 1 \n",
    "    else:\n",
    "        return(fibonacci(n-1) + fibonacci(n-2))  \n",
    "\n",
    "#nの値が1から10までのフィボナッチ数を確認\n",
    "for i in range(1,11):\n",
    "    print('n = ',i, ', ', 'fibonacci = ', fibonacci(i))"
   ]
  },
  {
   "cell_type": "code",
   "execution_count": null,
   "metadata": {},
   "outputs": [],
   "source": [
    "#ユニットテスト2\n",
    "#リクエストパラメータ'n'の値が文字列であることを確認\n",
    "#サーバーのエンドポイントURL　http://localhost:5000/fib?n=<正の整数>\n",
    "from flask import Flask, request, jsonify\n",
    "\n",
    "app = Flask(__name__)\n",
    "\n",
    "@app.route('/fib')\n",
    "def get_fibonacci():\n",
    "    n = request.args.get('n')  \n",
    "    if isinstance(n, str):\n",
    "        #'n'が文字列ならば表示\n",
    "        print('\\'n\\'は文字列です。', n)\n",
    "    else:\n",
    "        #'n'が文字列でなければ表示\n",
    "        print('\\'n\\'は文字列ではありません。', n)        \n",
    "\n",
    "if __name__ == '__main__':\n",
    "    app.run()"
   ]
  }
 ],
 "metadata": {
  "kernelspec": {
   "display_name": "Python 3",
   "language": "python",
   "name": "python3"
  },
  "language_info": {
   "codemirror_mode": {
    "name": "ipython",
    "version": 3
   },
   "file_extension": ".py",
   "mimetype": "text/x-python",
   "name": "python",
   "nbconvert_exporter": "python",
   "pygments_lexer": "ipython3",
   "version": "3.8.1"
  }
 },
 "nbformat": 4,
 "nbformat_minor": 4
}
