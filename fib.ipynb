#ユニットテスト1
#フィボナッチ数を正しく返しているかのテスト
def fibonacci(n):
    if n == 1:
        return 1 
    elif n == 2:
        return 1 
    else:
        return(fibonacci(n-1) + fibonacci(n-2))  

#nの値が1から10までのフィボナッチ数を確認
for i in range(1,11):
    print('n = ',i, ', ', 'fibonacci = ', fibonacci(i))

#ユニットテスト2
#リクエストパラメータ'n'の値が文字列であることを確認
#サーバーのエンドポイントURL　http://localhost:5000/fib?n=<正の整数>
from flask import Flask, request, jsonify

app = Flask(__name__)

@app.route('/fib')
def get_fibonacci():
    n = request.args.get('n')  
    if isinstance(n, str):
        #'n'が文字列ならば表示
        print('\'n\'は文字列です。', n)
    else:
        #'n'が文字列でなければ表示
        print('\'n\'は文字列ではありません。', n)        

if __name__ == '__main__':
    app.run()
