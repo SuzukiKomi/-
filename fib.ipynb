{
 "cells": [
  {
   "cell_type": "code",
   "execution_count": null,
   "metadata": {
    "scrolled": false
   },
   "outputs": [],
   "source": [
    "#作成したソースコード　\n",
    "#サーバーのエンドポイントURL　http://localhost:5000/fib?n=<正の整数>\n",
    "#フレームワークはFlaskを使用する。\n",
    "from flask import Flask, request, jsonify\n",
    "\n",
    "app = Flask(__name__)\n",
    "\n",
    "#フィボナッチ数を計算する関数を定義\n",
    "def fibonacci(n):\n",
    "    if n == 1:\n",
    "        return 1 #nの値が1のときは1を返す\n",
    "    elif n == 2:\n",
    "        return 1 #nの値が2のときは1を返す\n",
    "    else:\n",
    "        #nの値が3以上のときはフォボナッチ数を返す\n",
    "        return(fibonacci(n-1) + fibonacci(n-2))  \n",
    "\n",
    "#エンドポイント'/fib'におけるデコレータ\n",
    "@app.route('/fib')\n",
    "def get_fibonacci():\n",
    "    n = request.args.get('n')  # リクエストパラメータ 'n' の値を取得\n",
    "    if n is None:\n",
    "        #クエリパラメータ'n'が指定されていないときにエラーを表示\n",
    "        return 'Request parameter \\'n\\' is not specified.'\n",
    "    if not n.isdigit():\n",
    "        #nの値が0以上の整数ではないときにエラーを表示\n",
    "        #nに数値以外が入力されたときもここでエラーを表示\n",
    "        return 'Please enter a positive integer.'\n",
    "    if int(n) < 1:\n",
    "        #nの値が1未満のときにエラーを表示\n",
    "        return 'Please enter a positive integer.'\n",
    "    #nに1以上の正の整数が入力されたときにフィボナッチ数を返す\n",
    "    result = fibonacci(int(n))\n",
    "    #フィボナッチ数が返されたときに、フィボナッチ数と入力されたnの値を表示\n",
    "    print('fibonacci_result:',result , ', ' , 'n:', int(n))\n",
    "    #JSON形式でフィボナッチ数と入力されたnの値を表示\n",
    "    return jsonify({\n",
    "        'n': int(n),\n",
    "        'fibonacci_result': result\n",
    "    })\n",
    "\n",
    "#スクリプトが直接実行された場合にFlaskが開発用Webサーバーを起動し、\n",
    "#アプリケーションを実行する。\n",
    "if __name__ == '__main__':\n",
    "    app.run()"
   ]
  },
  {
   "cell_type": "code",
   "execution_count": null,
   "metadata": {
    "scrolled": true
   },
   "outputs": [],
   "source": [
    "#ユニットテスト1\n",
    "#フィボナッチ数を正しく返しているかのテスト\n",
    "def fibonacci(n):\n",
    "    if n == 1:\n",
    "        return 1 \n",
    "    elif n == 2:\n",
    "        return 1 \n",
    "    else:\n",
    "        return(fibonacci(n-1) + fibonacci(n-2))  \n",
    "\n",
    "#nの値が1から10までのフィボナッチ数を確認\n",
    "for i in range(1,11):\n",
    "    print('n = ',i, ', ', 'fibonacci = ', fibonacci(i))"
   ]
  },
  {
   "cell_type": "code",
   "execution_count": null,
   "metadata": {},
   "outputs": [],
   "source": [
    "#ユニットテスト2\n",
    "#リクエストパラメータ'n'の値が文字列であることを確認\n",
    "#サーバーのエンドポイントURL　http://localhost:5000/fib?n=<正の整数>\n",
    "from flask import Flask, request, jsonify\n",
    "\n",
    "app = Flask(__name__)\n",
    "\n",
    "@app.route('/fib')\n",
    "def get_fibonacci():\n",
    "    n = request.args.get('n')  \n",
    "    if isinstance(n, str):\n",
    "        #'n'が文字列ならば表示\n",
    "        print('\\'n\\'は文字列です。', n)\n",
    "    else:\n",
    "        #'n'が文字列でなければ表示\n",
    "        print('\\'n\\'は文字列ではありません。', n)        \n",
    "\n",
    "if __name__ == '__main__':\n",
    "    app.run()"
   ]
  }
 ],
 "metadata": {
  "kernelspec": {
   "display_name": "Python 3",
   "language": "python",
   "name": "python3"
  },
  "language_info": {
   "codemirror_mode": {
    "name": "ipython",
    "version": 3
   },
   "file_extension": ".py",
   "mimetype": "text/x-python",
   "name": "python",
   "nbconvert_exporter": "python",
   "pygments_lexer": "ipython3",
   "version": "3.8.1"
  }
 },
 "nbformat": 4,
 "nbformat_minor": 4
}
